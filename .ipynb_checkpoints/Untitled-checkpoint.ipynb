{
 "cells": [
  {
   "cell_type": "code",
   "execution_count": 1,
   "id": "8673874a",
   "metadata": {
    "scrolled": true
   },
   "outputs": [],
   "source": [
    "import numpy as np\n",
    "import pandas as pd\n",
    "import keras_tuner as kt"
   ]
  },
  {
   "cell_type": "code",
   "execution_count": 2,
   "id": "fe8e7e87",
   "metadata": {
    "scrolled": true
   },
   "outputs": [
    {
     "name": "stdout",
     "output_type": "stream",
     "text": [
      "Requirement already satisfied: gdown in c:\\users\\mleil\\appdata\\local\\programs\\python\\python310\\lib\\site-packages (4.5.3)\n",
      "Requirement already satisfied: requests[socks] in c:\\users\\mleil\\appdata\\local\\programs\\python\\python310\\lib\\site-packages (from gdown) (2.28.1)\n",
      "Requirement already satisfied: beautifulsoup4 in c:\\users\\mleil\\appdata\\local\\programs\\python\\python310\\lib\\site-packages (from gdown) (4.11.1)\n",
      "Requirement already satisfied: tqdm in c:\\users\\mleil\\appdata\\local\\programs\\python\\python310\\lib\\site-packages (from gdown) (4.64.1)\n",
      "Requirement already satisfied: filelock in c:\\users\\mleil\\appdata\\local\\programs\\python\\python310\\lib\\site-packages (from gdown) (3.8.0)\n",
      "Requirement already satisfied: six in c:\\users\\mleil\\appdata\\roaming\\python\\python310\\site-packages (from gdown) (1.16.0)\n",
      "Requirement already satisfied: soupsieve>1.2 in c:\\users\\mleil\\appdata\\local\\programs\\python\\python310\\lib\\site-packages (from beautifulsoup4->gdown) (2.3.2.post1)\n",
      "Requirement already satisfied: urllib3<1.27,>=1.21.1 in c:\\users\\mleil\\appdata\\local\\programs\\python\\python310\\lib\\site-packages (from requests[socks]->gdown) (1.26.12)\n",
      "Requirement already satisfied: idna<4,>=2.5 in c:\\users\\mleil\\appdata\\local\\programs\\python\\python310\\lib\\site-packages (from requests[socks]->gdown) (3.4)\n",
      "Requirement already satisfied: certifi>=2017.4.17 in c:\\users\\mleil\\appdata\\local\\programs\\python\\python310\\lib\\site-packages (from requests[socks]->gdown) (2022.9.24)\n",
      "Requirement already satisfied: charset-normalizer<3,>=2 in c:\\users\\mleil\\appdata\\local\\programs\\python\\python310\\lib\\site-packages (from requests[socks]->gdown) (2.1.1)\n",
      "Requirement already satisfied: PySocks!=1.5.7,>=1.5.6 in c:\\users\\mleil\\appdata\\local\\programs\\python\\python310\\lib\\site-packages (from requests[socks]->gdown) (1.7.1)\n",
      "Requirement already satisfied: colorama in c:\\users\\mleil\\appdata\\roaming\\python\\python310\\site-packages (from tqdm->gdown) (0.4.6)\n"
     ]
    }
   ],
   "source": [
    "!pip install gdown"
   ]
  },
  {
   "cell_type": "code",
   "execution_count": 3,
   "id": "e054533b",
   "metadata": {},
   "outputs": [
    {
     "name": "stderr",
     "output_type": "stream",
     "text": [
      "Downloading...\n",
      "From: https://drive.google.com/uc?id=1d3g3hcstIggbIqJOLUEg5h7fEbYewtGD\n",
      "To: C:\\Users\\mleil\\Desktop\\HandW\\Img.zip\n",
      "100%|██████████| 16.4M/16.4M [00:00<00:00, 47.2MB/s]\n"
     ]
    },
    {
     "data": {
      "text/plain": [
       "'Img.zip'"
      ]
     },
     "execution_count": 3,
     "metadata": {},
     "output_type": "execute_result"
    }
   ],
   "source": [
    "import gdown\n",
    "dataset_img = \"https://drive.google.com/uc?id=1d3g3hcstIggbIqJOLUEg5h7fEbYewtGD\"\n",
    "gdown.download(dataset_img)"
   ]
  },
  {
   "cell_type": "code",
   "execution_count": 4,
   "id": "7741a863",
   "metadata": {},
   "outputs": [
    {
     "name": "stdout",
     "output_type": "stream",
     "text": [
      "^C\n"
     ]
    }
   ],
   "source": [
    "!unzip Img.zip"
   ]
  },
  {
   "cell_type": "code",
   "execution_count": 5,
   "id": "f8093165",
   "metadata": {},
   "outputs": [
    {
     "name": "stderr",
     "output_type": "stream",
     "text": [
      "Downloading...\n",
      "From: https://drive.google.com/uc?id=1-R5fAA3gP1tgOkG-f8oUtuXnLvxL4rAb\n",
      "To: C:\\Users\\mleil\\Desktop\\HandW\\dataset.zip\n",
      "100%|██████████| 20.5k/20.5k [00:00<00:00, 2.29MB/s]\n"
     ]
    },
    {
     "data": {
      "text/plain": [
       "'dataset.zip'"
      ]
     },
     "execution_count": 5,
     "metadata": {},
     "output_type": "execute_result"
    }
   ],
   "source": [
    "import gdown\n",
    "dataset_csv = \"https://drive.google.com/uc?id=1-R5fAA3gP1tgOkG-f8oUtuXnLvxL4rAb\"\n",
    "gdown.download(dataset_csv)"
   ]
  },
  {
   "cell_type": "code",
   "execution_count": null,
   "id": "779080f2",
   "metadata": {
    "scrolled": true
   },
   "outputs": [],
   "source": [
    "!unzip dataset.zip"
   ]
  },
  {
   "cell_type": "code",
   "execution_count": 1,
   "id": "fe6f503b",
   "metadata": {},
   "outputs": [],
   "source": [
    "from tensorflow.keras.preprocessing.image import ImageDataGenerator\n",
    "train_datagen = ImageDataGenerator(\n",
    "    rescale = 1./255,\n",
    "    rotation_range = 25,\n",
    "    zoom_range = 0.1,\n",
    "    width_shift_range=0.1,\n",
    "    height_shift_range = 0.1,\n",
    "    fill_mode = 'nearest')\n",
    "    \n",
    "val_datagen = ImageDataGenerator(rescale=1./255)"
   ]
  },
  {
   "cell_type": "code",
   "execution_count": 4,
   "id": "7e8c27d9",
   "metadata": {
    "scrolled": true
   },
   "outputs": [
    {
     "data": {
      "text/html": [
       "<div>\n",
       "<style scoped>\n",
       "    .dataframe tbody tr th:only-of-type {\n",
       "        vertical-align: middle;\n",
       "    }\n",
       "\n",
       "    .dataframe tbody tr th {\n",
       "        vertical-align: top;\n",
       "    }\n",
       "\n",
       "    .dataframe thead th {\n",
       "        text-align: right;\n",
       "    }\n",
       "</style>\n",
       "<table border=\"1\" class=\"dataframe\">\n",
       "  <thead>\n",
       "    <tr style=\"text-align: right;\">\n",
       "      <th></th>\n",
       "      <th>image</th>\n",
       "      <th>label</th>\n",
       "    </tr>\n",
       "  </thead>\n",
       "  <tbody>\n",
       "    <tr>\n",
       "      <th>0</th>\n",
       "      <td>Img/o_21.jpeg</td>\n",
       "      <td>o</td>\n",
       "    </tr>\n",
       "    <tr>\n",
       "      <th>1</th>\n",
       "      <td>Img/img039-035.png</td>\n",
       "      <td>c</td>\n",
       "    </tr>\n",
       "    <tr>\n",
       "      <th>2</th>\n",
       "      <td>Img/img025-042.png</td>\n",
       "      <td>o</td>\n",
       "    </tr>\n",
       "    <tr>\n",
       "      <th>3</th>\n",
       "      <td>Img/n_24.jpeg</td>\n",
       "      <td>n</td>\n",
       "    </tr>\n",
       "    <tr>\n",
       "      <th>4</th>\n",
       "      <td>Img/img048-033.png</td>\n",
       "      <td>l</td>\n",
       "    </tr>\n",
       "  </tbody>\n",
       "</table>\n",
       "</div>"
      ],
      "text/plain": [
       "                image label\n",
       "0       Img/o_21.jpeg     o\n",
       "1  Img/img039-035.png     c\n",
       "2  Img/img025-042.png     o\n",
       "3       Img/n_24.jpeg     n\n",
       "4  Img/img048-033.png     l"
      ]
     },
     "execution_count": 4,
     "metadata": {},
     "output_type": "execute_result"
    }
   ],
   "source": [
    "import pandas as pd\n",
    "train = pd.read_csv(\"train.csv\")\n",
    "train.head()"
   ]
  },
  {
   "cell_type": "code",
   "execution_count": 5,
   "id": "5e3e5287",
   "metadata": {},
   "outputs": [
    {
     "data": {
      "text/html": [
       "<div>\n",
       "<style scoped>\n",
       "    .dataframe tbody tr th:only-of-type {\n",
       "        vertical-align: middle;\n",
       "    }\n",
       "\n",
       "    .dataframe tbody tr th {\n",
       "        vertical-align: top;\n",
       "    }\n",
       "\n",
       "    .dataframe thead th {\n",
       "        text-align: right;\n",
       "    }\n",
       "</style>\n",
       "<table border=\"1\" class=\"dataframe\">\n",
       "  <thead>\n",
       "    <tr style=\"text-align: right;\">\n",
       "      <th></th>\n",
       "      <th>image</th>\n",
       "      <th>label</th>\n",
       "    </tr>\n",
       "  </thead>\n",
       "  <tbody>\n",
       "    <tr>\n",
       "      <th>0</th>\n",
       "      <td>Img/img048-011.png</td>\n",
       "      <td>l</td>\n",
       "    </tr>\n",
       "    <tr>\n",
       "      <th>1</th>\n",
       "      <td>Img/img039-032.png</td>\n",
       "      <td>c</td>\n",
       "    </tr>\n",
       "    <tr>\n",
       "      <th>2</th>\n",
       "      <td>Img/img015-031.png</td>\n",
       "      <td>e</td>\n",
       "    </tr>\n",
       "    <tr>\n",
       "      <th>3</th>\n",
       "      <td>Img/v_5.jpeg</td>\n",
       "      <td>v</td>\n",
       "    </tr>\n",
       "    <tr>\n",
       "      <th>4</th>\n",
       "      <td>Img/img015-006.png</td>\n",
       "      <td>e</td>\n",
       "    </tr>\n",
       "  </tbody>\n",
       "</table>\n",
       "</div>"
      ],
      "text/plain": [
       "                image label\n",
       "0  Img/img048-011.png     l\n",
       "1  Img/img039-032.png     c\n",
       "2  Img/img015-031.png     e\n",
       "3        Img/v_5.jpeg     v\n",
       "4  Img/img015-006.png     e"
      ]
     },
     "execution_count": 5,
     "metadata": {},
     "output_type": "execute_result"
    }
   ],
   "source": [
    "valid = pd.read_csv(\"valid.csv\")\n",
    "valid.head()"
   ]
  },
  {
   "cell_type": "code",
   "execution_count": 6,
   "id": "4b92c714",
   "metadata": {},
   "outputs": [
    {
     "data": {
      "text/html": [
       "<div>\n",
       "<style scoped>\n",
       "    .dataframe tbody tr th:only-of-type {\n",
       "        vertical-align: middle;\n",
       "    }\n",
       "\n",
       "    .dataframe tbody tr th {\n",
       "        vertical-align: top;\n",
       "    }\n",
       "\n",
       "    .dataframe thead th {\n",
       "        text-align: right;\n",
       "    }\n",
       "</style>\n",
       "<table border=\"1\" class=\"dataframe\">\n",
       "  <thead>\n",
       "    <tr style=\"text-align: right;\">\n",
       "      <th></th>\n",
       "      <th>image</th>\n",
       "      <th>label</th>\n",
       "    </tr>\n",
       "  </thead>\n",
       "  <tbody>\n",
       "    <tr>\n",
       "      <th>0</th>\n",
       "      <td>Img/b_8.jpeg</td>\n",
       "      <td>b</td>\n",
       "    </tr>\n",
       "    <tr>\n",
       "      <th>1</th>\n",
       "      <td>Img/img018-050.png</td>\n",
       "      <td>h</td>\n",
       "    </tr>\n",
       "    <tr>\n",
       "      <th>2</th>\n",
       "      <td>Img/img022-027.png</td>\n",
       "      <td>l</td>\n",
       "    </tr>\n",
       "    <tr>\n",
       "      <th>3</th>\n",
       "      <td>Img/img015-047.png</td>\n",
       "      <td>e</td>\n",
       "    </tr>\n",
       "    <tr>\n",
       "      <th>4</th>\n",
       "      <td>Img/z_2.jpeg</td>\n",
       "      <td>z</td>\n",
       "    </tr>\n",
       "  </tbody>\n",
       "</table>\n",
       "</div>"
      ],
      "text/plain": [
       "                image label\n",
       "0        Img/b_8.jpeg     b\n",
       "1  Img/img018-050.png     h\n",
       "2  Img/img022-027.png     l\n",
       "3  Img/img015-047.png     e\n",
       "4        Img/z_2.jpeg     z"
      ]
     },
     "execution_count": 6,
     "metadata": {},
     "output_type": "execute_result"
    }
   ],
   "source": [
    "test = pd.read_csv(\"test.csv\")\n",
    "test.head()"
   ]
  },
  {
   "cell_type": "code",
   "execution_count": 7,
   "id": "59a7ac0b",
   "metadata": {
    "scrolled": true
   },
   "outputs": [
    {
     "name": "stdout",
     "output_type": "stream",
     "text": [
      "Found 2529 validated image filenames belonging to 26 classes.\n",
      "Found 723 validated image filenames belonging to 26 classes.\n",
      "Found 362 validated image filenames belonging to 26 classes.\n"
     ]
    }
   ],
   "source": [
    "train_data = train_datagen.flow_from_dataframe(train, x_col=\"image\", \n",
    "            y_col=\"label\",target_size=(100,100),batch_size=128,color_mode='rgb')\n",
    "\n",
    "valid_data = val_datagen.flow_from_dataframe(valid, x_col=\"image\", \n",
    "            y_col=\"label\",target_size=(100,100),batch_size=128,color_mode='rgb')\n",
    "\n",
    "test_data = val_datagen.flow_from_dataframe(test, x_col=\"image\", \n",
    "            y_col=\"label\",target_size=(100,100),batch_size=1,color_mode='rgb',shuffle=False)"
   ]
  },
  {
   "cell_type": "code",
   "execution_count": 8,
   "id": "bab33f17",
   "metadata": {},
   "outputs": [],
   "source": [
    "def getInceptionModel(hp):\n",
    "    from tensorflow.keras.applications.inception_v3 import InceptionV3\n",
    "    from tensorflow.keras.layers import Flatten,Dense, AveragePooling2D, Dropout\n",
    "    from tensorflow.keras.optimizers import SGD\n",
    "    from tensorflow.keras import Model\n",
    "    opt = SGD(learning_rate=0.0001)\n",
    "    incv3 = InceptionV3(weights=\"imagenet\", include_top=False, input_shape=(100, 100, 3))\n",
    "    x = Flatten()(incv3.output)\n",
    "    x = Dense(hp.Int(\"num_dense\",32,256,step=32), activation=\"relu\")(x)\n",
    "    x = Dropout(hp.Choice(\"dropout_rate\",[0.1,0.2,0.3,0.4,0.5]))(x)\n",
    "    predict = Dense(26, activation=\"softmax\")(x)\n",
    "    model = Model(inputs=incv3.input, outputs=predict)\n",
    "    for layer in incv3.layers:\n",
    "        layer.trainable = False\n",
    "    model.compile(optimizer=\"adam\",\n",
    "              loss='categorical_crossentropy',\n",
    "              metrics=['accuracy'])\n",
    "    return(model)"
   ]
  },
  {
   "cell_type": "code",
   "execution_count": 9,
   "id": "d6cdf457",
   "metadata": {},
   "outputs": [],
   "source": [
    "def getModel(model_name):\n",
    "    if model_name == \"vgg\":\n",
    "        return getVggModel\n",
    "    elif model_name == \"resnet\":\n",
    "        return getResnetModel\n",
    "    elif model_name == \"inception\":\n",
    "        return getInceptionModel"
   ]
  },
  {
   "cell_type": "code",
   "execution_count": 10,
   "id": "bc83630f",
   "metadata": {},
   "outputs": [],
   "source": [
    "model_name = \"inception\" #\"vgg\",resnet\",\"inception\"\n",
    "model = getModel(model_name)"
   ]
  },
  {
   "cell_type": "code",
   "execution_count": 11,
   "id": "b331c0f7",
   "metadata": {},
   "outputs": [],
   "source": [
    "import tensorflow as tf\n",
    "early_stopping = tf.keras.callbacks.EarlyStopping(\n",
    "                        monitor='val_loss',\n",
    "                        min_delta=1e-4,\n",
    "                        patience=5, restore_best_weights=True)\n",
    "learning_rate_reduction = tf.keras.callbacks.ReduceLROnPlateau(monitor='val_loss', \n",
    "                                            patience=10, \n",
    "                                            verbose=1, \n",
    "                                            factor=0.5, \n",
    "                                            min_lr=0.00001)"
   ]
  },
  {
   "cell_type": "code",
   "execution_count": 14,
   "id": "72fad2ef",
   "metadata": {},
   "outputs": [
    {
     "name": "stdout",
     "output_type": "stream",
     "text": [
      "Downloading data from https://storage.googleapis.com/tensorflow/keras-applications/inception_v3/inception_v3_weights_tf_dim_ordering_tf_kernels_notop.h5\n",
      "87910968/87910968 [==============================] - 2s 0us/step\n"
     ]
    }
   ],
   "source": [
    "import keras_tuner as kt\n",
    "tuner = kt.tuners.RandomSearch(\n",
    "    model,\n",
    "    objective='val_loss',\n",
    "    max_trials=10,\n",
    "    overwrite=True)"
   ]
  },
  {
   "cell_type": "code",
   "execution_count": 15,
   "id": "d0c895f9",
   "metadata": {},
   "outputs": [
    {
     "name": "stdout",
     "output_type": "stream",
     "text": [
      "Trial 10 Complete [00h 02m 24s]\n",
      "val_loss: 1.375389814376831\n",
      "\n",
      "Best val_loss So Far: 1.2903988361358643\n",
      "Total elapsed time: 00h 24m 39s\n",
      "INFO:tensorflow:Oracle triggered exit\n"
     ]
    }
   ],
   "source": [
    "tuner.search(train_data, epochs=5, validation_data=valid_data,\n",
    "          callbacks=[learning_rate_reduction, early_stopping])"
   ]
  },
  {
   "cell_type": "code",
   "execution_count": 16,
   "id": "01871070",
   "metadata": {},
   "outputs": [],
   "source": [
    "model = tuner.get_best_models()[0]"
   ]
  },
  {
   "cell_type": "code",
   "execution_count": 17,
   "id": "06acfc93",
   "metadata": {
    "scrolled": false
   },
   "outputs": [
    {
     "name": "stdout",
     "output_type": "stream",
     "text": [
      "Epoch 1/100\n",
      "20/20 [==============================] - 29s 1s/step - loss: 1.3781 - accuracy: 0.5733 - val_loss: 1.2372 - val_accuracy: 0.6335 - lr: 0.0010\n",
      "Epoch 2/100\n",
      "20/20 [==============================] - 26s 1s/step - loss: 1.3148 - accuracy: 0.5923 - val_loss: 1.1787 - val_accuracy: 0.6639 - lr: 0.0010\n",
      "Epoch 3/100\n",
      "20/20 [==============================] - 26s 1s/step - loss: 1.2664 - accuracy: 0.6026 - val_loss: 1.1623 - val_accuracy: 0.6750 - lr: 0.0010\n",
      "Epoch 4/100\n",
      "20/20 [==============================] - 26s 1s/step - loss: 1.2295 - accuracy: 0.6180 - val_loss: 1.1481 - val_accuracy: 0.6556 - lr: 0.0010\n",
      "Epoch 5/100\n",
      "20/20 [==============================] - 26s 1s/step - loss: 1.1528 - accuracy: 0.6275 - val_loss: 1.1434 - val_accuracy: 0.6680 - lr: 0.0010\n",
      "Epoch 6/100\n",
      "20/20 [==============================] - 26s 1s/step - loss: 1.1562 - accuracy: 0.6386 - val_loss: 1.0865 - val_accuracy: 0.6708 - lr: 0.0010\n",
      "Epoch 7/100\n",
      "20/20 [==============================] - 27s 1s/step - loss: 1.0932 - accuracy: 0.6603 - val_loss: 1.0779 - val_accuracy: 0.6722 - lr: 0.0010\n",
      "Epoch 8/100\n",
      "20/20 [==============================] - 27s 1s/step - loss: 1.1107 - accuracy: 0.6481 - val_loss: 1.0088 - val_accuracy: 0.6833 - lr: 0.0010\n",
      "Epoch 9/100\n",
      "20/20 [==============================] - 27s 1s/step - loss: 1.0270 - accuracy: 0.6766 - val_loss: 1.0286 - val_accuracy: 0.6971 - lr: 0.0010\n",
      "Epoch 10/100\n",
      "20/20 [==============================] - 27s 1s/step - loss: 1.0116 - accuracy: 0.6706 - val_loss: 1.0207 - val_accuracy: 0.6819 - lr: 0.0010\n",
      "Epoch 11/100\n",
      "20/20 [==============================] - 26s 1s/step - loss: 1.0005 - accuracy: 0.6856 - val_loss: 0.9681 - val_accuracy: 0.7012 - lr: 0.0010\n",
      "Epoch 12/100\n",
      "20/20 [==============================] - 25s 1s/step - loss: 0.9528 - accuracy: 0.6955 - val_loss: 0.9875 - val_accuracy: 0.7012 - lr: 0.0010\n",
      "Epoch 13/100\n",
      "20/20 [==============================] - 26s 1s/step - loss: 0.9879 - accuracy: 0.6900 - val_loss: 1.0051 - val_accuracy: 0.7040 - lr: 0.0010\n",
      "Epoch 14/100\n",
      "20/20 [==============================] - 26s 1s/step - loss: 0.9303 - accuracy: 0.7011 - val_loss: 0.9565 - val_accuracy: 0.7123 - lr: 0.0010\n",
      "Epoch 15/100\n",
      "20/20 [==============================] - 25s 1s/step - loss: 0.9557 - accuracy: 0.7019 - val_loss: 0.9913 - val_accuracy: 0.6971 - lr: 0.0010\n",
      "Epoch 16/100\n",
      "20/20 [==============================] - 26s 1s/step - loss: 0.9294 - accuracy: 0.7011 - val_loss: 0.9638 - val_accuracy: 0.7151 - lr: 0.0010\n",
      "Epoch 17/100\n",
      "20/20 [==============================] - 26s 1s/step - loss: 0.9082 - accuracy: 0.7102 - val_loss: 0.9329 - val_accuracy: 0.7178 - lr: 0.0010\n",
      "Epoch 18/100\n",
      "20/20 [==============================] - 26s 1s/step - loss: 0.8963 - accuracy: 0.7177 - val_loss: 0.9178 - val_accuracy: 0.7317 - lr: 0.0010\n",
      "Epoch 19/100\n",
      "20/20 [==============================] - 26s 1s/step - loss: 0.8851 - accuracy: 0.7197 - val_loss: 0.9096 - val_accuracy: 0.7344 - lr: 0.0010\n",
      "Epoch 20/100\n",
      "20/20 [==============================] - 26s 1s/step - loss: 0.8570 - accuracy: 0.7248 - val_loss: 0.8927 - val_accuracy: 0.7261 - lr: 0.0010\n",
      "Epoch 21/100\n",
      "20/20 [==============================] - 28s 1s/step - loss: 0.8653 - accuracy: 0.7204 - val_loss: 0.9057 - val_accuracy: 0.7248 - lr: 0.0010\n",
      "Epoch 22/100\n",
      "20/20 [==============================] - 27s 1s/step - loss: 0.8541 - accuracy: 0.7193 - val_loss: 0.8907 - val_accuracy: 0.7261 - lr: 0.0010\n",
      "Epoch 23/100\n",
      "20/20 [==============================] - 24s 1s/step - loss: 0.8435 - accuracy: 0.7355 - val_loss: 0.8920 - val_accuracy: 0.7455 - lr: 0.0010\n",
      "Epoch 24/100\n",
      "20/20 [==============================] - 23s 1s/step - loss: 0.8218 - accuracy: 0.7378 - val_loss: 0.8616 - val_accuracy: 0.7552 - lr: 0.0010\n",
      "Epoch 25/100\n",
      "20/20 [==============================] - 23s 1s/step - loss: 0.7656 - accuracy: 0.7537 - val_loss: 0.8636 - val_accuracy: 0.7372 - lr: 0.0010\n",
      "Epoch 26/100\n",
      "20/20 [==============================] - 26s 1s/step - loss: 0.8244 - accuracy: 0.7378 - val_loss: 0.8669 - val_accuracy: 0.7386 - lr: 0.0010\n",
      "Epoch 27/100\n",
      "20/20 [==============================] - 26s 1s/step - loss: 0.8229 - accuracy: 0.7374 - val_loss: 0.8548 - val_accuracy: 0.7400 - lr: 0.0010\n",
      "Epoch 28/100\n",
      "20/20 [==============================] - 26s 1s/step - loss: 0.7810 - accuracy: 0.7485 - val_loss: 0.8650 - val_accuracy: 0.7386 - lr: 0.0010\n",
      "Epoch 29/100\n",
      "20/20 [==============================] - 26s 1s/step - loss: 0.7833 - accuracy: 0.7414 - val_loss: 0.8566 - val_accuracy: 0.7414 - lr: 0.0010\n",
      "Epoch 30/100\n",
      "20/20 [==============================] - 26s 1s/step - loss: 0.7507 - accuracy: 0.7537 - val_loss: 0.8778 - val_accuracy: 0.7372 - lr: 0.0010\n",
      "Epoch 31/100\n",
      "20/20 [==============================] - 26s 1s/step - loss: 0.7983 - accuracy: 0.7454 - val_loss: 0.8776 - val_accuracy: 0.7303 - lr: 0.0010\n",
      "Epoch 32/100\n",
      "20/20 [==============================] - 26s 1s/step - loss: 0.7549 - accuracy: 0.7544 - val_loss: 0.8453 - val_accuracy: 0.7469 - lr: 0.0010\n",
      "Epoch 33/100\n",
      "20/20 [==============================] - 25s 1s/step - loss: 0.7687 - accuracy: 0.7564 - val_loss: 0.8757 - val_accuracy: 0.7317 - lr: 0.0010\n",
      "Epoch 34/100\n",
      "20/20 [==============================] - 26s 1s/step - loss: 0.7675 - accuracy: 0.7513 - val_loss: 0.8867 - val_accuracy: 0.7220 - lr: 0.0010\n",
      "Epoch 35/100\n",
      "20/20 [==============================] - 25s 1s/step - loss: 0.7434 - accuracy: 0.7592 - val_loss: 0.8478 - val_accuracy: 0.7441 - lr: 0.0010\n",
      "Epoch 36/100\n",
      "20/20 [==============================] - 26s 1s/step - loss: 0.7293 - accuracy: 0.7631 - val_loss: 0.8738 - val_accuracy: 0.7455 - lr: 0.0010\n",
      "Epoch 37/100\n",
      "20/20 [==============================] - 25s 1s/step - loss: 0.7582 - accuracy: 0.7465 - val_loss: 0.8375 - val_accuracy: 0.7386 - lr: 0.0010\n",
      "Epoch 38/100\n",
      "20/20 [==============================] - 26s 1s/step - loss: 0.7195 - accuracy: 0.7620 - val_loss: 0.8461 - val_accuracy: 0.7400 - lr: 0.0010\n",
      "Epoch 39/100\n",
      "20/20 [==============================] - 26s 1s/step - loss: 0.7413 - accuracy: 0.7564 - val_loss: 0.8740 - val_accuracy: 0.7469 - lr: 0.0010\n",
      "Epoch 40/100\n",
      "20/20 [==============================] - 26s 1s/step - loss: 0.6970 - accuracy: 0.7722 - val_loss: 0.8317 - val_accuracy: 0.7621 - lr: 0.0010\n",
      "Epoch 41/100\n",
      "20/20 [==============================] - 26s 1s/step - loss: 0.7116 - accuracy: 0.7647 - val_loss: 0.8104 - val_accuracy: 0.7635 - lr: 0.0010\n",
      "Epoch 42/100\n",
      "20/20 [==============================] - 26s 1s/step - loss: 0.6848 - accuracy: 0.7746 - val_loss: 0.8602 - val_accuracy: 0.7538 - lr: 0.0010\n",
      "Epoch 43/100\n",
      "20/20 [==============================] - 26s 1s/step - loss: 0.6852 - accuracy: 0.7746 - val_loss: 0.8571 - val_accuracy: 0.7469 - lr: 0.0010\n",
      "Epoch 44/100\n",
      "20/20 [==============================] - 26s 1s/step - loss: 0.6937 - accuracy: 0.7746 - val_loss: 0.8219 - val_accuracy: 0.7483 - lr: 0.0010\n",
      "Epoch 45/100\n",
      "20/20 [==============================] - 28s 1s/step - loss: 0.7347 - accuracy: 0.7533 - val_loss: 0.8506 - val_accuracy: 0.7275 - lr: 0.0010\n",
      "Epoch 46/100\n",
      "20/20 [==============================] - 26s 1s/step - loss: 0.6783 - accuracy: 0.7798 - val_loss: 0.8306 - val_accuracy: 0.7538 - lr: 0.0010\n"
     ]
    },
    {
     "data": {
      "text/plain": [
       "<keras.callbacks.History at 0x2a48a931690>"
      ]
     },
     "execution_count": 17,
     "metadata": {},
     "output_type": "execute_result"
    }
   ],
   "source": [
    "model.fit(train_data,\n",
    "          epochs=100,\n",
    "          validation_data=valid_data,\n",
    "          callbacks=[learning_rate_reduction, early_stopping])"
   ]
  },
  {
   "cell_type": "code",
   "execution_count": 19,
   "id": "24cd8248",
   "metadata": {
    "scrolled": true
   },
   "outputs": [
    {
     "name": "stdout",
     "output_type": "stream",
     "text": [
      "362/362 [==============================] - 7s 18ms/step\n",
      "Accuracy:  0.7955801104972375\n"
     ]
    }
   ],
   "source": [
    "import numpy as np\n",
    "prediction = np.argmax(model.predict(test_data), axis=1)\n",
    "accuracy = sum(prediction == test_data.classes) / len(prediction)\n",
    "print(\"Accuracy: \",accuracy)"
   ]
  },
  {
   "cell_type": "code",
   "execution_count": 20,
   "id": "615237b0",
   "metadata": {},
   "outputs": [
    {
     "data": {
      "image/png": "[encoded data removed]",
      "text/plain": [
       "<Figure size 1000x1000 with 2 Axes>"
      ]
     },
     "metadata": {},
     "output_type": "display_data"
    }
   ],
   "source": [
    "from sklearn.metrics import confusion_matrix\n",
    "import itertools\n",
    "import matplotlib.pyplot as plt\n",
    "cm = confusion_matrix(test_data.classes, prediction)\n",
    "def plot_confusion_matrix(cm, title='Confusion matrix'):\n",
    "    plt.imshow(cm, interpolation='nearest',cmap='plasma')\n",
    "    plt.title(title)\n",
    "    plt.colorbar()\n",
    "    char_list = list(\"abcdefghijklmnopqrstuvwxyz\")\n",
    "    tick_marks = np.arange(cm.shape[1])\n",
    "    plt.xticks(tick_marks, rotation=45)\n",
    "    plt.yticks(tick_marks)\n",
    "    ax = plt.gca()\n",
    "    ax.set_xticklabels(char_list)\n",
    "    ax.set_yticklabels(char_list)\n",
    "\n",
    "    thresh = cm.max() / 2.\n",
    "    for i, j in itertools.product(range(cm.shape[0]), range(cm.shape[1])):\n",
    "        plt.text(j, i, format(cm[i, j], 'd'),\n",
    "                 horizontalalignment=\"center\",\n",
    "                 color=\"black\" if cm[i, j] > thresh else \"white\")\n",
    "    plt.tight_layout()\n",
    "    plt.ylabel('True label')\n",
    "    plt.xlabel('Predicted label')\n",
    "fig, ax = plt.subplots(figsize=(10,10))\n",
    "plot_confusion_matrix(cm)\n",
    "plt.show()"
   ]
  },
  {
   "cell_type": "code",
   "execution_count": 21,
   "id": "5fd35256",
   "metadata": {},
   "outputs": [],
   "source": [
    "model.save(\"model.h5\")"
   ]
  },
  {
   "cell_type": "code",
   "execution_count": 22,
   "id": "ec9b165c",
   "metadata": {},
   "outputs": [
    {
     "name": "stderr",
     "output_type": "stream",
     "text": [
      "Downloading...\n",
      "From: https://drive.google.com/uc?id=1KO1vrAj2ArZQadeR_Tjk5vzr8eknbVKC\n",
      "To: C:\\Users\\mleil\\Desktop\\HandW\\alphabets-test-set.zip\n",
      "100%|██████████| 1.55M/1.55M [00:00<00:00, 11.5MB/s]\n"
     ]
    },
    {
     "data": {
      "text/plain": [
       "'alphabets-test-set.zip'"
      ]
     },
     "execution_count": 22,
     "metadata": {},
     "output_type": "execute_result"
    }
   ],
   "source": [
    "import gdown\n",
    "test_set_data = \"https://drive.google.com/uc?id=1KO1vrAj2ArZQadeR_Tjk5vzr8eknbVKC\"\n",
    "gdown.download(test_set_data )"
   ]
  },
  {
   "cell_type": "code",
   "execution_count": 23,
   "id": "4f7fa1ba",
   "metadata": {},
   "outputs": [
    {
     "name": "stdout",
     "output_type": "stream",
     "text": [
      "Archive:  alphabets-test-set.zip\n",
      "   creating: alphabets-test-set/\n",
      "  inflating: alphabets-test-set/k.jpeg  \n",
      "  inflating: __MACOSX/alphabets-test-set/._k.jpeg  \n",
      "  inflating: alphabets-test-set/r.jpeg  \n",
      "  inflating: __MACOSX/alphabets-test-set/._r.jpeg  \n",
      "  inflating: alphabets-test-set/g.jpeg  \n",
      "  inflating: __MACOSX/alphabets-test-set/._g.jpeg  \n",
      "  inflating: alphabets-test-set/f.jpeg  \n",
      "  inflating: __MACOSX/alphabets-test-set/._f.jpeg  \n",
      "  inflating: alphabets-test-set/.DS_Store  \n",
      "  inflating: __MACOSX/alphabets-test-set/._.DS_Store  \n",
      "  inflating: alphabets-test-set/s.jpeg  \n",
      "  inflating: __MACOSX/alphabets-test-set/._s.jpeg  \n",
      "  inflating: alphabets-test-set/j.jpeg  \n",
      "  inflating: __MACOSX/alphabets-test-set/._j.jpeg  \n",
      "  inflating: alphabets-test-set/t.jpeg  \n",
      "  inflating: __MACOSX/alphabets-test-set/._t.jpeg  \n",
      "  inflating: alphabets-test-set/x.jpeg  \n",
      "  inflating: __MACOSX/alphabets-test-set/._x.jpeg  \n",
      "  inflating: alphabets-test-set/m.jpeg  \n",
      "  inflating: __MACOSX/alphabets-test-set/._m.jpeg  \n",
      "  inflating: alphabets-test-set/l.jpeg  \n",
      "  inflating: __MACOSX/alphabets-test-set/._l.jpeg  \n",
      "  inflating: alphabets-test-set/y.jpeg  \n",
      "  inflating: __MACOSX/alphabets-test-set/._y.jpeg  \n",
      "  inflating: alphabets-test-set/u.jpeg  \n",
      "  inflating: __MACOSX/alphabets-test-set/._u.jpeg  \n",
      "  inflating: alphabets-test-set/c.jpeg  \n",
      "  inflating: __MACOSX/alphabets-test-set/._c.jpeg  \n",
      "  inflating: alphabets-test-set/v.jpeg  \n",
      "  inflating: __MACOSX/alphabets-test-set/._v.jpeg  \n",
      "  inflating: alphabets-test-set/o.jpeg  \n",
      "  inflating: __MACOSX/alphabets-test-set/._o.jpeg  \n",
      "  inflating: alphabets-test-set/z.jpeg  \n",
      "  inflating: __MACOSX/alphabets-test-set/._z.jpeg  \n",
      "  inflating: alphabets-test-set/n.jpeg  \n",
      "  inflating: __MACOSX/alphabets-test-set/._n.jpeg  \n",
      "  inflating: alphabets-test-set/w.jpeg  \n",
      "  inflating: __MACOSX/alphabets-test-set/._w.jpeg  \n",
      "  inflating: alphabets-test-set/b.jpeg  \n",
      "  inflating: __MACOSX/alphabets-test-set/._b.jpeg  \n",
      "  inflating: alphabets-test-set/i.jpeg  \n",
      "  inflating: __MACOSX/alphabets-test-set/._i.jpeg  \n",
      "  inflating: alphabets-test-set/a.jpg  \n",
      "  inflating: __MACOSX/alphabets-test-set/._a.jpg  \n",
      "  inflating: alphabets-test-set/e.jpeg  \n",
      "  inflating: __MACOSX/alphabets-test-set/._e.jpeg  \n",
      "  inflating: alphabets-test-set/p.jpeg  \n",
      "  inflating: __MACOSX/alphabets-test-set/._p.jpeg  \n",
      "  inflating: alphabets-test-set/q.jpeg  \n",
      "  inflating: __MACOSX/alphabets-test-set/._q.jpeg  \n",
      "  inflating: alphabets-test-set/d.jpeg  \n",
      "  inflating: __MACOSX/alphabets-test-set/._d.jpeg  \n",
      "  inflating: alphabets-test-set/h.jpeg  \n",
      "  inflating: __MACOSX/alphabets-test-set/._h.jpeg  \n"
     ]
    }
   ],
   "source": [
    "!unzip alphabets-test-set.zip"
   ]
  },
  {
   "cell_type": "code",
   "execution_count": 24,
   "id": "762f0c3c",
   "metadata": {},
   "outputs": [
    {
     "name": "stdout",
     "output_type": "stream",
     "text": [
      "Found 26 validated image filenames belonging to 26 classes.\n"
     ]
    },
    {
     "name": "stderr",
     "output_type": "stream",
     "text": [
      "C:\\Users\\mleil\\AppData\\Local\\Programs\\Python\\Python310\\lib\\site-packages\\keras\\preprocessing\\image.py:1139: UserWarning: Found 1 invalid image filename(s) in x_col=\"image\". These filename(s) will be ignored.\n",
      "  warnings.warn(\n"
     ]
    }
   ],
   "source": [
    "import os\n",
    "test_data_list = os.listdir(\"./alphabets-test-set\")\n",
    "classes= list(map(lambda x: x.split(\".\")[0],test_data_list))\n",
    "test_df = pd.DataFrame(data={\"image\": test_data_list,\"label\":classes})\n",
    "test_data_1 = val_datagen.flow_from_dataframe(test_df, x_col=\"image\", \n",
    "        directory=\"./alphabets-test-set\",y_col=\"label\",target_size=(100,100),batch_size=1,color_mode='rgb',shuffle=False)"
   ]
  },
  {
   "cell_type": "code",
   "execution_count": 25,
   "id": "d754c0cf",
   "metadata": {},
   "outputs": [
    {
     "data": {
      "text/plain": [
       "['.DS_Store',\n",
       " 'a.jpg',\n",
       " 'b.jpeg',\n",
       " 'c.jpeg',\n",
       " 'd.jpeg',\n",
       " 'e.jpeg',\n",
       " 'f.jpeg',\n",
       " 'g.jpeg',\n",
       " 'h.jpeg',\n",
       " 'i.jpeg',\n",
       " 'j.jpeg',\n",
       " 'k.jpeg',\n",
       " 'l.jpeg',\n",
       " 'm.jpeg',\n",
       " 'n.jpeg',\n",
       " 'o.jpeg',\n",
       " 'p.jpeg',\n",
       " 'q.jpeg',\n",
       " 'r.jpeg',\n",
       " 's.jpeg',\n",
       " 't.jpeg',\n",
       " 'u.jpeg',\n",
       " 'v.jpeg',\n",
       " 'w.jpeg',\n",
       " 'x.jpeg',\n",
       " 'y.jpeg',\n",
       " 'z.jpeg']"
      ]
     },
     "execution_count": 25,
     "metadata": {},
     "output_type": "execute_result"
    }
   ],
   "source": [
    "test_data_list"
   ]
  },
  {
   "cell_type": "code",
   "execution_count": 26,
   "id": "c58d5c74",
   "metadata": {},
   "outputs": [
    {
     "name": "stdout",
     "output_type": "stream",
     "text": [
      "Collecting imutils\n",
      "  Downloading imutils-0.5.4.tar.gz (17 kB)\n",
      "  Preparing metadata (setup.py): started\n",
      "  Preparing metadata (setup.py): finished with status 'done'\n",
      "Building wheels for collected packages: imutils\n",
      "  Building wheel for imutils (setup.py): started\n",
      "  Building wheel for imutils (setup.py): finished with status 'done'\n",
      "  Created wheel for imutils: filename=imutils-0.5.4-py3-none-any.whl size=25869 sha256=4945d90996356468ec5b8abb4eb8882608988ee4375a5aa2ae6a95757fd33390\n",
      "  Stored in directory: c:\\users\\mleil\\appdata\\local\\pip\\cache\\wheels\\c2\\02\\32\\f3617a9f68bcc67eda3ebeb4514eba18f62e81ff439428109d\n",
      "Successfully built imutils\n",
      "Installing collected packages: imutils\n",
      "Successfully installed imutils-0.5.4\n"
     ]
    }
   ],
   "source": [
    "!pip install imutils"
   ]
  },
  {
   "cell_type": "code",
   "execution_count": 28,
   "id": "a5f32ba0",
   "metadata": {},
   "outputs": [],
   "source": [
    "import cv2\n",
    "import imutils\n",
    "from imutils.contours import sort_contours\n",
    "import numpy as np\n",
    "import matplotlib.pyplot as plt\n",
    "import tensorflow as tf"
   ]
  },
  {
   "cell_type": "code",
   "execution_count": 29,
   "id": "92e37035",
   "metadata": {},
   "outputs": [],
   "source": [
    "def showImage(img):\n",
    "  if len(img.shape) == 2:\n",
    "    plt.imshow(img, cmap='gray')\n",
    "  else:\n",
    "    plt.imshow(img)\n",
    "  plt.show()"
   ]
  },
  {
   "cell_type": "code",
   "execution_count": 33,
   "id": "4deb5033",
   "metadata": {
    "scrolled": true
   },
   "outputs": [],
   "source": [
    "def predict_image(path,real=None):\n",
    "  img = cv2.imread(path)\n",
    "  gray = cv2.cvtColor(img, cv2.COLOR_BGR2GRAY)\n",
    "  blurred = cv2.GaussianBlur(gray, (5,5),0)\n",
    "  edged = cv2.Canny(blurred,30,150)\n",
    "  cnts = cv2.findContours(edged.copy(),cv2.RETR_EXTERNAL,cv2.CHAIN_APPROX_SIMPLE)\n",
    "  cnts = imutils.grab_contours(cnts)\n",
    "  cnts = sort_contours(cnts,method=\"left-to-right\")[0]\n",
    "  chars = []\n",
    "  for c in cnts:\n",
    "        (x,y,w,h) = cv2.boundingRect(c)\n",
    "        roi = gray[y:y+h,x:x+w]\n",
    "        (tH,tW) = roi.shape\n",
    "        # showImage(roi)\n",
    "        if tH < tW:\n",
    "          pad = (tW - tH)\n",
    "          if pad % 2 != 0:\n",
    "            roi = cv2.resize(roi,(tW*2,tH*2))\n",
    "            image = cv2.copyMakeBorder(roi, pad, pad, 0, 0, cv2.BORDER_CONSTANT,value=(255,255,255))\n",
    "          else:\n",
    "            pad = int(pad / 2)\n",
    "            image = cv2.copyMakeBorder(roi, pad, pad, 0, 0, cv2.BORDER_CONSTANT,value=(255,255,255))\n",
    "        elif tH > tW:\n",
    "          pad = (tH - tW)\n",
    "          if pad % 2 != 0:\n",
    "            roi = cv2.resize(roi,(tW*2,tH*2))\n",
    "            image = cv2.copyMakeBorder(roi, 0, 0, pad, pad, cv2.BORDER_CONSTANT,value=(255,255,255))\n",
    "          else:\n",
    "            pad = int(pad / 2)\n",
    "            image = cv2.copyMakeBorder(roi, 0, 0, pad, pad, cv2.BORDER_CONSTANT,value=(255,255,255))\n",
    "        image = cv2.resize(image,(100,100))\n",
    "        image = image >= 180\n",
    "        image = image.astype(\"int16\") * 255\n",
    "        image = cv2.merge([image,image,image])\n",
    "        # showImage(image)\n",
    "        image = image.astype(\"float32\") / 255.0\n",
    "        # showImage(image)\n",
    "        image = np.expand_dims(image,axis=-1)\n",
    "        chars.append((image,(x,y,w,h)))\n",
    "  boxes = [b[1] for b in chars]\n",
    "  chars = np.array([c[0] for c in chars], dtype=\"float32\")\n",
    "  if len(chars) > 0:\n",
    "      preds = model.predict(chars)\n",
    "      labelNames = \"abcdefghijklmnopqrstuvwxyz\"\n",
    "      sentence = \"\"\n",
    "      for (pred,(x,y,w,h)) in zip(preds,boxes):\n",
    "        i = np.argmax(pred)\n",
    "        prob = pred[i]\n",
    "        label = labelNames[i]\n",
    "        sentence += label\n",
    "        cv2.rectangle(img,(x,y),(x+w,y+h),(0,0,255),2)\n",
    "        cv2.putText(img,label,(x-10,y-10),cv2.FONT_HERSHEY_SIMPLEX,1.5,(0,0,255),2)\n",
    "      print(sentence)\n",
    "      if real:\n",
    "        print(\" \".join(sentence.split()))\n",
    "        print(\" \".join(real.split()))\n",
    "      showImage(img)\n"
   ]
  },
  {
   "cell_type": "code",
   "execution_count": 34,
   "id": "c2109db6",
   "metadata": {},
   "outputs": [
    {
     "name": "stderr",
     "output_type": "stream",
     "text": [
      "Downloading...\n",
      "From: https://drive.google.com/uc?id=1iiW5vpyNPT1TlP64mvRBy4dqsdvrNA2P\n",
      "To: C:\\Users\\mleil\\Desktop\\HandW\\IMG_B71C8CF03DA0-1.jpeg\n",
      "100%|██████████| 127k/127k [00:00<00:00, 1.80MB/s]\n"
     ]
    },
    {
     "data": {
      "text/plain": [
       "'IMG_B71C8CF03DA0-1.jpeg'"
      ]
     },
     "execution_count": 34,
     "metadata": {},
     "output_type": "execute_result"
    }
   ],
   "source": [
    "import gdown\n",
    "img_test = \"https://drive.google.com/uc?id=1iiW5vpyNPT1TlP64mvRBy4dqsdvrNA2P\"\n",
    "gdown.download(img_test)"
   ]
  },
  {
   "cell_type": "code",
   "execution_count": 35,
   "id": "f7ef15c4",
   "metadata": {},
   "outputs": [
    {
     "name": "stdout",
     "output_type": "stream",
     "text": [
      "1/1 [==============================] - 1s 635ms/step\n",
      "senbgok\n"
     ]
    },
    {
     "data": {
      "image/png": "[encoded data removed]",
      "text/plain": [
       "<Figure size 640x480 with 1 Axes>"
      ]
     },
     "metadata": {},
     "output_type": "display_data"
    }
   ],
   "source": [
    "predict_image(\"./IMG_B71C8CF03DA0-1.jpeg\")"
   ]
  },
  {
   "cell_type": "code",
   "execution_count": 36,
   "id": "3e7c5277",
   "metadata": {},
   "outputs": [
    {
     "name": "stdout",
     "output_type": "stream",
     "text": [
      "Requirement already satisfied: gdown in c:\\users\\mleil\\appdata\\local\\programs\\python\\python310\\lib\\site-packages (4.5.3)\n",
      "Requirement already satisfied: beautifulsoup4 in c:\\users\\mleil\\appdata\\local\\programs\\python\\python310\\lib\\site-packages (from gdown) (4.11.1)\n",
      "Requirement already satisfied: filelock in c:\\users\\mleil\\appdata\\local\\programs\\python\\python310\\lib\\site-packages (from gdown) (3.8.0)\n",
      "Requirement already satisfied: tqdm in c:\\users\\mleil\\appdata\\local\\programs\\python\\python310\\lib\\site-packages (from gdown) (4.64.1)\n",
      "Requirement already satisfied: requests[socks] in c:\\users\\mleil\\appdata\\local\\programs\\python\\python310\\lib\\site-packages (from gdown) (2.28.1)\n",
      "Requirement already satisfied: six in c:\\users\\mleil\\appdata\\roaming\\python\\python310\\site-packages (from gdown) (1.16.0)\n",
      "Requirement already satisfied: soupsieve>1.2 in c:\\users\\mleil\\appdata\\local\\programs\\python\\python310\\lib\\site-packages (from beautifulsoup4->gdown) (2.3.2.post1)\n",
      "Requirement already satisfied: idna<4,>=2.5 in c:\\users\\mleil\\appdata\\local\\programs\\python\\python310\\lib\\site-packages (from requests[socks]->gdown) (3.4)\n",
      "Requirement already satisfied: certifi>=2017.4.17 in c:\\users\\mleil\\appdata\\local\\programs\\python\\python310\\lib\\site-packages (from requests[socks]->gdown) (2022.9.24)\n",
      "Requirement already satisfied: urllib3<1.27,>=1.21.1 in c:\\users\\mleil\\appdata\\local\\programs\\python\\python310\\lib\\site-packages (from requests[socks]->gdown) (1.26.12)\n",
      "Requirement already satisfied: charset-normalizer<3,>=2 in c:\\users\\mleil\\appdata\\local\\programs\\python\\python310\\lib\\site-packages (from requests[socks]->gdown) (2.1.1)\n",
      "Requirement already satisfied: PySocks!=1.5.7,>=1.5.6 in c:\\users\\mleil\\appdata\\local\\programs\\python\\python310\\lib\\site-packages (from requests[socks]->gdown) (1.7.1)\n",
      "Requirement already satisfied: colorama in c:\\users\\mleil\\appdata\\roaming\\python\\python310\\site-packages (from tqdm->gdown) (0.4.6)\n"
     ]
    }
   ],
   "source": [
    "!pip install gdown"
   ]
  },
  {
   "cell_type": "code",
   "execution_count": 37,
   "id": "68b414a1",
   "metadata": {},
   "outputs": [
    {
     "name": "stderr",
     "output_type": "stream",
     "text": [
      "Downloading...\n",
      "From: https://drive.google.com/uc?id=1Ow383ztTn6hlj-nZdcNQsTMHy_b-mbXO\n",
      "To: C:\\Users\\mleil\\Desktop\\HandW\\model.h5\n",
      "100%|██████████| 81.0M/81.0M [00:01<00:00, 59.9MB/s]\n"
     ]
    },
    {
     "data": {
      "text/plain": [
       "'model.h5'"
      ]
     },
     "execution_count": 37,
     "metadata": {},
     "output_type": "execute_result"
    }
   ],
   "source": [
    "import gdown\n",
    "vgg_model = \"https://drive.google.com/uc?id=1Ow383ztTn6hlj-nZdcNQsTMHy_b-mbXO\"\n",
    "gdown.download(vgg_model)"
   ]
  },
  {
   "cell_type": "code",
   "execution_count": 38,
   "id": "30ab8910",
   "metadata": {},
   "outputs": [
    {
     "name": "stdout",
     "output_type": "stream",
     "text": [
      "Collecting gradio\n",
      "  Downloading gradio-3.9.1-py3-none-any.whl (11.6 MB)\n",
      "     --------------------------------------- 11.6/11.6 MB 38.6 MB/s eta 0:00:00\n",
      "Collecting python-multipart\n",
      "  Downloading python-multipart-0.0.5.tar.gz (32 kB)\n",
      "  Preparing metadata (setup.py): started\n",
      "  Preparing metadata (setup.py): finished with status 'done'\n",
      "Collecting ffmpy\n",
      "  Downloading ffmpy-0.3.0.tar.gz (4.8 kB)\n",
      "  Preparing metadata (setup.py): started\n",
      "  Preparing metadata (setup.py): finished with status 'done'\n",
      "Collecting pyyaml\n",
      "  Downloading PyYAML-6.0-cp310-cp310-win_amd64.whl (151 kB)\n",
      "     ---------------------------------------- 151.7/151.7 kB ? eta 0:00:00\n",
      "Collecting paramiko\n",
      "  Downloading paramiko-2.12.0-py2.py3-none-any.whl (213 kB)\n",
      "     ------------------------------------- 213.1/213.1 kB 13.5 MB/s eta 0:00:00\n",
      "Requirement already satisfied: matplotlib in c:\\users\\mleil\\appdata\\local\\programs\\python\\python310\\lib\\site-packages (from gradio) (3.6.2)\n",
      "Collecting httpx\n",
      "  Downloading httpx-0.23.0-py3-none-any.whl (84 kB)\n",
      "     ---------------------------------------- 84.8/84.8 kB ? eta 0:00:00\n",
      "Requirement already satisfied: numpy in c:\\users\\mleil\\appdata\\local\\programs\\python\\python310\\lib\\site-packages (from gradio) (1.23.4)\n",
      "Collecting markdown-it-py[linkify,plugins]\n",
      "  Downloading markdown_it_py-2.1.0-py3-none-any.whl (84 kB)\n",
      "     ---------------------------------------- 84.5/84.5 kB ? eta 0:00:00\n",
      "Collecting h11<0.13,>=0.11\n",
      "  Downloading h11-0.12.0-py3-none-any.whl (54 kB)\n",
      "     ---------------------------------------- 54.9/54.9 kB 2.8 MB/s eta 0:00:00\n",
      "Requirement already satisfied: requests in c:\\users\\mleil\\appdata\\local\\programs\\python\\python310\\lib\\site-packages (from gradio) (2.28.1)\n",
      "Collecting fsspec\n",
      "  Downloading fsspec-2022.11.0-py3-none-any.whl (139 kB)\n",
      "     ---------------------------------------- 139.5/139.5 kB ? eta 0:00:00\n",
      "Collecting uvicorn\n",
      "  Downloading uvicorn-0.19.0-py3-none-any.whl (56 kB)\n",
      "     ---------------------------------------- 56.6/56.6 kB ? eta 0:00:00\n",
      "Collecting pydantic\n",
      "  Downloading pydantic-1.10.2-cp310-cp310-win_amd64.whl (2.1 MB)\n",
      "     ---------------------------------------- 2.1/2.1 MB 66.5 MB/s eta 0:00:00\n",
      "Collecting pycryptodome\n",
      "  Downloading pycryptodome-3.15.0-cp35-abi3-win_amd64.whl (1.9 MB)\n",
      "     ---------------------------------------- 1.9/1.9 MB 62.3 MB/s eta 0:00:00\n",
      "Collecting orjson\n",
      "  Downloading orjson-3.8.1-cp310-none-win_amd64.whl (198 kB)\n",
      "     ------------------------------------- 198.9/198.9 kB 12.6 MB/s eta 0:00:00\n",
      "Collecting aiohttp\n",
      "  Downloading aiohttp-3.8.3-cp310-cp310-win_amd64.whl (319 kB)\n",
      "     ---------------------------------------- 319.7/319.7 kB ? eta 0:00:00\n",
      "Requirement already satisfied: pillow in c:\\users\\mleil\\appdata\\local\\programs\\python\\python310\\lib\\site-packages (from gradio) (9.3.0)\n",
      "Collecting websockets>=10.0\n",
      "  Downloading websockets-10.4-cp310-cp310-win_amd64.whl (101 kB)\n",
      "     ---------------------------------------- 101.4/101.4 kB ? eta 0:00:00\n",
      "Requirement already satisfied: jinja2 in c:\\users\\mleil\\appdata\\local\\programs\\python\\python310\\lib\\site-packages (from gradio) (3.1.2)\n",
      "Requirement already satisfied: pandas in c:\\users\\mleil\\appdata\\local\\programs\\python\\python310\\lib\\site-packages (from gradio) (1.5.1)\n",
      "Collecting pydub\n",
      "  Downloading pydub-0.25.1-py2.py3-none-any.whl (32 kB)\n",
      "Collecting fastapi\n",
      "  Downloading fastapi-0.86.0-py3-none-any.whl (55 kB)\n",
      "     ---------------------------------------- 55.5/55.5 kB ? eta 0:00:00\n",
      "Collecting frozenlist>=1.1.1\n",
      "  Downloading frozenlist-1.3.3-cp310-cp310-win_amd64.whl (33 kB)\n",
      "Collecting multidict<7.0,>=4.5\n",
      "  Downloading multidict-6.0.2-cp310-cp310-win_amd64.whl (27 kB)\n",
      "Collecting aiosignal>=1.1.2\n",
      "  Downloading aiosignal-1.3.1-py3-none-any.whl (7.6 kB)\n",
      "Collecting async-timeout<5.0,>=4.0.0a3\n",
      "  Downloading async_timeout-4.0.2-py3-none-any.whl (5.8 kB)\n",
      "Requirement already satisfied: charset-normalizer<3.0,>=2.0 in c:\\users\\mleil\\appdata\\local\\programs\\python\\python310\\lib\\site-packages (from aiohttp->gradio) (2.1.1)\n",
      "Collecting yarl<2.0,>=1.0\n",
      "  Downloading yarl-1.8.1-cp310-cp310-win_amd64.whl (55 kB)\n",
      "     ---------------------------------------- 55.9/55.9 kB ? eta 0:00:00\n",
      "Requirement already satisfied: attrs>=17.3.0 in c:\\users\\mleil\\appdata\\local\\programs\\python\\python310\\lib\\site-packages (from aiohttp->gradio) (22.1.0)\n",
      "Collecting starlette==0.20.4\n",
      "  Downloading starlette-0.20.4-py3-none-any.whl (63 kB)\n",
      "     ---------------------------------------- 63.6/63.6 kB ? eta 0:00:00\n",
      "Requirement already satisfied: anyio<5,>=3.4.0 in c:\\users\\mleil\\appdata\\local\\programs\\python\\python310\\lib\\site-packages (from starlette==0.20.4->fastapi->gradio) (3.6.2)\n",
      "Requirement already satisfied: typing-extensions>=4.1.0 in c:\\users\\mleil\\appdata\\local\\programs\\python\\python310\\lib\\site-packages (from pydantic->gradio) (4.4.0)\n",
      "Requirement already satisfied: certifi in c:\\users\\mleil\\appdata\\local\\programs\\python\\python310\\lib\\site-packages (from httpx->gradio) (2022.9.24)\n",
      "Collecting rfc3986[idna2008]<2,>=1.3\n",
      "  Downloading rfc3986-1.5.0-py2.py3-none-any.whl (31 kB)\n",
      "Requirement already satisfied: sniffio in c:\\users\\mleil\\appdata\\local\\programs\\python\\python310\\lib\\site-packages (from httpx->gradio) (1.3.0)\n",
      "Collecting httpcore<0.16.0,>=0.15.0\n",
      "  Downloading httpcore-0.15.0-py3-none-any.whl (68 kB)\n",
      "     ---------------------------------------- 68.4/68.4 kB ? eta 0:00:00\n",
      "Requirement already satisfied: MarkupSafe>=2.0 in c:\\users\\mleil\\appdata\\local\\programs\\python\\python310\\lib\\site-packages (from jinja2->gradio) (2.1.1)\n",
      "Collecting mdurl~=0.1\n",
      "  Downloading mdurl-0.1.2-py3-none-any.whl (10.0 kB)\n",
      "Collecting mdit-py-plugins\n",
      "  Downloading mdit_py_plugins-0.3.1-py3-none-any.whl (46 kB)\n",
      "     ---------------------------------------- 46.5/46.5 kB ? eta 0:00:00\n",
      "Collecting linkify-it-py~=1.0\n",
      "  Downloading linkify_it_py-1.0.3-py3-none-any.whl (19 kB)\n",
      "Requirement already satisfied: contourpy>=1.0.1 in c:\\users\\mleil\\appdata\\local\\programs\\python\\python310\\lib\\site-packages (from matplotlib->gradio) (1.0.6)\n",
      "Requirement already satisfied: python-dateutil>=2.7 in c:\\users\\mleil\\appdata\\roaming\\python\\python310\\site-packages (from matplotlib->gradio) (2.8.2)\n",
      "Requirement already satisfied: packaging>=20.0 in c:\\users\\mleil\\appdata\\roaming\\python\\python310\\site-packages (from matplotlib->gradio) (21.3)\n",
      "Requirement already satisfied: fonttools>=4.22.0 in c:\\users\\mleil\\appdata\\local\\programs\\python\\python310\\lib\\site-packages (from matplotlib->gradio) (4.38.0)\n",
      "Requirement already satisfied: cycler>=0.10 in c:\\users\\mleil\\appdata\\local\\programs\\python\\python310\\lib\\site-packages (from matplotlib->gradio) (0.11.0)\n",
      "Requirement already satisfied: kiwisolver>=1.0.1 in c:\\users\\mleil\\appdata\\local\\programs\\python\\python310\\lib\\site-packages (from matplotlib->gradio) (1.4.4)\n",
      "Requirement already satisfied: pyparsing>=2.2.1 in c:\\users\\mleil\\appdata\\roaming\\python\\python310\\site-packages (from matplotlib->gradio) (3.0.9)\n",
      "Requirement already satisfied: pytz>=2020.1 in c:\\users\\mleil\\appdata\\local\\programs\\python\\python310\\lib\\site-packages (from pandas->gradio) (2022.6)\n",
      "Collecting bcrypt>=3.1.3\n",
      "  Downloading bcrypt-4.0.1-cp36-abi3-win_amd64.whl (152 kB)\n",
      "     ---------------------------------------- 152.9/152.9 kB ? eta 0:00:00\n",
      "Requirement already satisfied: six in c:\\users\\mleil\\appdata\\roaming\\python\\python310\\site-packages (from paramiko->gradio) (1.16.0)\n",
      "Collecting pynacl>=1.0.1\n",
      "  Downloading PyNaCl-1.5.0-cp36-abi3-win_amd64.whl (212 kB)\n",
      "     ---------------------------------------- 212.1/212.1 kB ? eta 0:00:00\n",
      "Collecting cryptography>=2.5\n",
      "  Downloading cryptography-38.0.3-cp36-abi3-win_amd64.whl (2.4 MB)\n",
      "     ---------------------------------------- 2.4/2.4 MB 76.0 MB/s eta 0:00:00\n",
      "Requirement already satisfied: idna<4,>=2.5 in c:\\users\\mleil\\appdata\\local\\programs\\python\\python310\\lib\\site-packages (from requests->gradio) (3.4)\n",
      "Requirement already satisfied: urllib3<1.27,>=1.21.1 in c:\\users\\mleil\\appdata\\local\\programs\\python\\python310\\lib\\site-packages (from requests->gradio) (1.26.12)\n",
      "Collecting click>=7.0\n",
      "  Downloading click-8.1.3-py3-none-any.whl (96 kB)\n",
      "     ---------------------------------------- 96.6/96.6 kB ? eta 0:00:00\n",
      "Requirement already satisfied: colorama in c:\\users\\mleil\\appdata\\roaming\\python\\python310\\site-packages (from click>=7.0->uvicorn->gradio) (0.4.6)\n",
      "Requirement already satisfied: cffi>=1.12 in c:\\users\\mleil\\appdata\\local\\programs\\python\\python310\\lib\\site-packages (from cryptography>=2.5->paramiko->gradio) (1.15.1)\n",
      "Collecting uc-micro-py\n",
      "  Downloading uc_micro_py-1.0.1-py3-none-any.whl (6.2 kB)\n",
      "Requirement already satisfied: pycparser in c:\\users\\mleil\\appdata\\local\\programs\\python\\python310\\lib\\site-packages (from cffi>=1.12->cryptography>=2.5->paramiko->gradio) (2.21)\n",
      "Building wheels for collected packages: ffmpy, python-multipart\n",
      "  Building wheel for ffmpy (setup.py): started\n",
      "  Building wheel for ffmpy (setup.py): finished with status 'done'\n",
      "  Created wheel for ffmpy: filename=ffmpy-0.3.0-py3-none-any.whl size=4732 sha256=f1daa71380b07ee4e5a7710af1ab0ffa3dfcf1a9b09df7fa931a582fbdf507d9\n",
      "  Stored in directory: c:\\users\\mleil\\appdata\\local\\pip\\cache\\wheels\\fe\\17\\e9\\577da024bc5aede641c69f0675254c1e518db79800abbe135c\n",
      "  Building wheel for python-multipart (setup.py): started\n",
      "  Building wheel for python-multipart (setup.py): finished with status 'done'\n",
      "  Created wheel for python-multipart: filename=python_multipart-0.0.5-py3-none-any.whl size=31690 sha256=54a71e668033e3668336c6c596a31de4626c366aca9e99767ec53fb33b98078a\n",
      "  Stored in directory: c:\\users\\mleil\\appdata\\local\\pip\\cache\\wheels\\1a\\70\\03\\c981b93a16009e0e54f9f16e19fd8e94c5415b805f61fd2a07\n",
      "Successfully built ffmpy python-multipart\n",
      "Installing collected packages: rfc3986, pydub, ffmpy, websockets, uc-micro-py, pyyaml, python-multipart, pydantic, pycryptodome, orjson, multidict, mdurl, h11, fsspec, frozenlist, click, bcrypt, async-timeout, yarl, uvicorn, starlette, pynacl, markdown-it-py, linkify-it-py, httpcore, cryptography, aiosignal, paramiko, mdit-py-plugins, httpx, fastapi, aiohttp, gradio\n",
      "Successfully installed aiohttp-3.8.3 aiosignal-1.3.1 async-timeout-4.0.2 bcrypt-4.0.1 click-8.1.3 cryptography-38.0.3 fastapi-0.86.0 ffmpy-0.3.0 frozenlist-1.3.3 fsspec-2022.11.0 gradio-3.9.1 h11-0.12.0 httpcore-0.15.0 httpx-0.23.0 linkify-it-py-1.0.3 markdown-it-py-2.1.0 mdit-py-plugins-0.3.1 mdurl-0.1.2 multidict-6.0.2 orjson-3.8.1 paramiko-2.12.0 pycryptodome-3.15.0 pydantic-1.10.2 pydub-0.25.1 pynacl-1.5.0 python-multipart-0.0.5 pyyaml-6.0 rfc3986-1.5.0 starlette-0.20.4 uc-micro-py-1.0.1 uvicorn-0.19.0 websockets-10.4 yarl-1.8.1\n"
     ]
    }
   ],
   "source": [
    "!pip install gradio"
   ]
  },
  {
   "cell_type": "code",
   "execution_count": 39,
   "id": "0bddc6cc",
   "metadata": {},
   "outputs": [
    {
     "name": "stdout",
     "output_type": "stream",
     "text": [
      "Requirement already satisfied: imutils in c:\\users\\mleil\\appdata\\local\\programs\\python\\python310\\lib\\site-packages (0.5.4)\n"
     ]
    }
   ],
   "source": [
    "!pip install imutils"
   ]
  },
  {
   "cell_type": "code",
   "execution_count": 41,
   "id": "72736ff8",
   "metadata": {},
   "outputs": [
    {
     "ename": "IndentationError",
     "evalue": "unexpected indent (667947327.py, line 63)",
     "output_type": "error",
     "traceback": [
      "\u001b[1;36m  Cell \u001b[1;32mIn [41], line 63\u001b[1;36m\u001b[0m\n\u001b[1;33m    return(img,sentence)\u001b[0m\n\u001b[1;37m    ^\u001b[0m\n\u001b[1;31mIndentationError\u001b[0m\u001b[1;31m:\u001b[0m unexpected indent\n"
     ]
    }
   ],
   "source": [
    "import gradio as gr\n",
    "from tensorflow.keras.models import load_model \n",
    "import cv2\n",
    "import imutils\n",
    "from imutils.contours import sort_contours\n",
    "import numpy as np\n",
    "import matplotlib.pyplot as plt\n",
    "import tensorflow as tf\n",
    "\n",
    "model = load_model(\"model.h5\")\n",
    "\n",
    "def predict_image(img):\n",
    "    gray = cv2.cvtColor(img, cv2.COLOR_BGR2GRAY)\n",
    "    blurred = cv2.GaussianBlur(gray, (5,5),0)\n",
    "    edged = cv2.Canny(blurred,30,150)\n",
    "    cnts = cv2.findContours(edged.copy(),cv2.RETR_EXTERNAL,cv2.CHAIN_APPROX_SIMPLE)\n",
    "    cnts = imutils.grab_contours(cnts)\n",
    "    cnts = sort_contours(cnts,method=\"left-to-right\")[0]\n",
    "    chars = []\n",
    "    for c in cnts:\n",
    "        (x,y,w,h) = cv2.boundingRect(c)\n",
    "        roi = gray[y:y+h,x:x+w]\n",
    "        (tH,tW) = roi.shape\n",
    "        # showImage(roi)\n",
    "        if tH < tW:\n",
    "            pad = (tW - tH)\n",
    "            if pad % 2 != 0:\n",
    "                roi = cv2.resize(roi,(tW*2,tH*2))\n",
    "                image = cv2.copyMakeBorder(roi, pad, pad, 0, 0, cv2.BORDER_CONSTANT,value=(255,255,255))\n",
    "            else:\n",
    "                pad = int(pad / 2)\n",
    "                image = cv2.copyMakeBorder(roi, pad, pad, 0, 0, cv2.BORDER_CONSTANT,value=(255,255,255))\n",
    "        elif tH > tW:\n",
    "            pad = (tH - tW)\n",
    "            if pad % 2 != 0:\n",
    "                roi = cv2.resize(roi,(tW*2,tH*2))\n",
    "                image = cv2.copyMakeBorder(roi, 0, 0, pad, pad, cv2.BORDER_CONSTANT,value=(255,255,255))\n",
    "            else:\n",
    "                pad = int(pad / 2)\n",
    "                image = cv2.copyMakeBorder(roi, 0, 0, pad, pad, cv2.BORDER_CONSTANT,value=(255,255,255))\n",
    "        image = cv2.resize(image,(100,100))\n",
    "        image = image >= 180\n",
    "        image = image.astype(\"int16\") * 255\n",
    "        image = cv2.merge([image,image,image])\n",
    "        # showImage(image)\n",
    "        image = image.astype(\"float32\") / 255.0\n",
    "        # showImage(image)\n",
    "        image = np.expand_dims(image,axis=-1)\n",
    "        chars.append((image,(x,y,w,h)))\n",
    "    boxes = [b[1] for b in chars]\n",
    "    chars = np.array([c[0] for c in chars], dtype=\"float32\")\n",
    "    if len(chars) > 0:\n",
    "        preds = model.predict(chars)\n",
    "        labelNames = \"abcdefghijklmnopqrstuvwxyz\"\n",
    "        sentence = \"\"\n",
    "        for (pred,(x,y,w,h)) in zip(preds,boxes):\n",
    "            i = np.argmax(pred)\n",
    "            prob = pred[i]\n",
    "            label = labelNames[i]\n",
    "            sentence += label\n",
    "            cv2.rectangle(img,(x,y),(x+w,y+h),(0,0,255),2)\n",
    "            cv2.putText(img,label,(x-10,y-10),cv2.FONT_HERSHEY_SIMPLEX,1.5,(0,0,255),2)\n",
    "            return(img,sentence)"
   ]
  },
  {
   "cell_type": "code",
   "execution_count": null,
   "id": "8c29047e",
   "metadata": {},
   "outputs": [],
   "source": []
  }
 ],
 "metadata": {
  "kernelspec": {
   "display_name": "Python 3 (ipykernel)",
   "language": "python",
   "name": "python3"
  },
  "language_info": {
   "codemirror_mode": {
    "name": "ipython",
    "version": 3
   },
   "file_extension": ".py",
   "mimetype": "text/x-python",
   "name": "python",
   "nbconvert_exporter": "python",
   "pygments_lexer": "ipython3",
   "version": "3.10.0"
  }
 },
 "nbformat": 4,
 "nbformat_minor": 5
}
